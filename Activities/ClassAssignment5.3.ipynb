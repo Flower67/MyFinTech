{
 "cells": [
  {
   "cell_type": "code",
   "execution_count": 17,
   "metadata": {},
   "outputs": [
    {
     "ename": "SyntaxError",
     "evalue": "invalid syntax (<ipython-input-17-8910ca2bd914>, line 36)",
     "output_type": "error",
     "traceback": [
      "\u001b[0;36m  File \u001b[0;32m\"<ipython-input-17-8910ca2bd914>\"\u001b[0;36m, line \u001b[0;32m36\u001b[0m\n\u001b[0;31m    'oldman Sachs': 87\u001b[0m\n\u001b[0m    ^\u001b[0m\n\u001b[0;31mSyntaxError\u001b[0m\u001b[0;31m:\u001b[0m invalid syntax\n"
     ]
    }
   ],
   "source": [
    "# Banks and Market Caps\n",
    "#-----------------------\n",
    "# JP Morgan Chase: 327\n",
    "# Bank of America: 302\n",
    "# Citigroup: 173\n",
    "# Wells Fargo: 273\n",
    "# Goldman Sachs: 87\n",
    "# Morgan Stanley: 72\n",
    "# U.S. Bancorp: 83\n",
    "# TD Bank: 108\n",
    "# PNC Financial Services: 67\n",
    "# Capital One: 47\n",
    "# FNB Corporation: 4\n",
    "# First Hawaiian Bank: 3\n",
    "# Ally Financial: 12\n",
    "# Wachovia: 145\n",
    "# Republic Bancorp: .97\n",
    "\n",
    "# @TODO: Initialize a dictionary of banks and market caps (in billions)\n",
    "\n",
    "bank = {\n",
    "    'JP Morgan Chase': 327,\n",
    "    'Bank of America': 302,\n",
    "    'Citigroup': 173, \n",
    "    'Wells Fargo': 273,\n",
    "    'Morgan Stanley': 72,\n",
    "    'U.S. Bancorp': 83,\n",
    "    'TD Bank': 108, \n",
    "    'PNC Financial Services': 67,\n",
    "    'Capital One': 47, \n",
    "    'FNB Corporation': 4, \n",
    "    'First Hawaiian Bank': 3, \n",
    "    'Ally Financial': 12,\n",
    "    'Wachovia': 145,\n",
    "    'Republic Bancorp': .97\n",
    "    ' Sachs': 87\n",
    "}\n",
    "print(bank)\n",
    "\n",
    "\n",
    "# @TODO: Change the market cap for 'Citigroup'\n",
    "\n",
    "\n",
    "# @TODO: Add a new bank and market cap pair\n",
    "\n",
    "\n",
    "# @TODO: Remove a bank from the dictionary\n",
    "\n",
    "\n",
    "# @TODO: Print the modified dictionary"
   ]
  },
  {
   "cell_type": "code",
   "execution_count": null,
   "metadata": {},
   "outputs": [],
   "source": []
  }
 ],
 "metadata": {
  "kernelspec": {
   "display_name": "Python 3",
   "language": "python",
   "name": "python3"
  },
  "language_info": {
   "codemirror_mode": {
    "name": "ipython",
    "version": 3
   },
   "file_extension": ".py",
   "mimetype": "text/x-python",
   "name": "python",
   "nbconvert_exporter": "python",
   "pygments_lexer": "ipython3",
   "version": "3.8.3"
  }
 },
 "nbformat": 4,
 "nbformat_minor": 4
}
