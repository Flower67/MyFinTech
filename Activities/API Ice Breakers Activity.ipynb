{
 "cells": [
  {
   "cell_type": "code",
   "execution_count": null,
   "metadata": {},
   "outputs": [],
   "source": [
    "\n",
    "Ice Breakers on Request\n",
    "Import requests library\n",
    "In [1]:\n",
    "import requests\n",
    "Declare request_urls\n",
    "In [2]:\n",
    "# Declare `url` variables\n",
    "prog_joke_url = \"https://official-joke-api.appspot.com/jokes/programming/random\"\n",
    "rand_joke_url = \"https://official-joke-api.appspot.com/jokes/random\"\n",
    "cat_facts_url = \"https://cat-fact.herokuapp.com/facts\"\n",
    "dot_spending_url = \"https://api.usaspending.gov//api/v2/references/agency/456/\"\n",
    "us_gdp_data_url = \"http://api.worldbank.org/v2/country/us?format=json\"\n",
    "Execute GET request using requests library\n",
    "In [3]:\n",
    "# Execute `GET` request with url\n",
    "Get response status code\n",
    "In [4]:\n",
    "# Print `response_data variable`\n",
    "Extract response content\n",
    "In [5]:\n",
    "# Store response using `content` attribute\n",
    "Convert output to JSON\n",
    "In [6]:\n",
    "# Format data as JSON\n",
    "Format data with json.dumps\n",
    "In [7]:\n",
    "import json\n",
    "\n",
    "# Use json.dumps to format data"
   ]
  }
 ],
 "metadata": {
  "kernelspec": {
   "display_name": "Python 3",
   "language": "python",
   "name": "python3"
  },
  "language_info": {
   "codemirror_mode": {
    "name": "ipython",
    "version": 3
   },
   "file_extension": ".py",
   "mimetype": "text/x-python",
   "name": "python",
   "nbconvert_exporter": "python",
   "pygments_lexer": "ipython3",
   "version": "3.8.3"
  }
 },
 "nbformat": 4,
 "nbformat_minor": 4
}
