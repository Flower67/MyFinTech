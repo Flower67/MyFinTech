{
 "cells": [
  {
   "cell_type": "code",
   "execution_count": 12,
   "metadata": {},
   "outputs": [
    {
     "name": "stdout",
     "output_type": "stream",
     "text": [
      "----------Summary Statistics--------------\n",
      "Number of Total Days: 20\n"
     ]
    }
   ],
   "source": [
    "# -*- coding: utf-8 -*-\n",
    "\"\"\"\n",
    "Student Do: Trading Log.\n",
    "This script demonstrates how to perform basic analysis of trading profits/losses\n",
    "over the course of a month (20 business days).\n",
    "\"\"\"\n",
    "\n",
    "# @TODO: Initialize the metric variables\n",
    "count = 0\n",
    "total = 0\n",
    "average = 0\n",
    "minimum = 0\n",
    "maximum = 0\n",
    "\n",
    "# @TODO: Initialize lists to hold profitable and unprofitable day profits/losses\n",
    "Profit = []\n",
    "Loss = []\n",
    "\n",
    "\n",
    "# List of trading profits/losses\n",
    "trading_pnl = [ -224,  352, 252, 354, -544,\n",
    "                -650,   56, 123, -43,  254,\n",
    "                 325, -123,  47, 321,  123,\n",
    "                 133, -151, 613, 232, -311 ]\n",
    "\n",
    "# @TODO: Iterate over each element of the list\n",
    "for amounts in trading_pnl:\n",
    "\n",
    "\n",
    "    # @TODO: Cumulatively sum up the total and count\n",
    "    total += amounts\n",
    "    count += 1\n",
    "\n",
    "    # @TODO: Write logic to determine minimum and maximum values\n",
    "    if minimum == 0:\n",
    "        minimum = amounts\n",
    "    elif amounts < minimum:\n",
    "        minimum = amounts\n",
    "    elif amounts > maximum:\n",
    "        maximum = amounts\n",
    "\n",
    "\n",
    "    # @TODO: Write logic to determine profitable vs. unprofitable days\n",
    "    if amounts > 0:\n",
    "        Profit.append(amounts)\n",
    "    elif amounts <= 0:\n",
    "        Loss.append(amounts)\n",
    "\n",
    "# @TODO: Calculate the average\n",
    "average = round(total/count,2)\n",
    "\n",
    "\n",
    "# @TODO: Calculate count metrics\n",
    "profit_count = len(Profit)\n",
    "loss_count = len(Loss)\n",
    "\n",
    "# @TODO: Calculate percentage metrics\n",
    "percent_profit = profit_count/count *100\n",
    "percent_loss = loss_count/count *100\n",
    "\n",
    "\n",
    "# @TODO: Print out the summary statistics\n",
    "print(\"----------Summary Statistics--------------\")\n",
    "print(f\"Number of Total Days: {count}\")\n"
   ]
  },
  {
   "cell_type": "code",
   "execution_count": null,
   "metadata": {},
   "outputs": [],
   "source": []
  }
 ],
 "metadata": {
  "kernelspec": {
   "display_name": "Python 3",
   "language": "python",
   "name": "python3"
  },
  "language_info": {
   "codemirror_mode": {
    "name": "ipython",
    "version": 3
   },
   "file_extension": ".py",
   "mimetype": "text/x-python",
   "name": "python",
   "nbconvert_exporter": "python",
   "pygments_lexer": "ipython3",
   "version": "3.8.3"
  }
 },
 "nbformat": 4,
 "nbformat_minor": 4
}
