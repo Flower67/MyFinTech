{
 "cells": [
  {
   "cell_type": "code",
   "execution_count": 16,
   "metadata": {},
   "outputs": [
    {
     "name": "stdout",
     "output_type": "stream",
     "text": [
      "Grocery list for apple pie ingredients:\n",
      "['Water', 'Butter', 'Eggs', 'Apples', 'Cinnamon', 'Sugar', 'Milk']\n",
      "\n",
      "The first two items on the list:\n",
      "['Water', 'Butter']\n",
      "\n",
      "Last five items on the list:\n",
      "['Eggs', 'Apples', 'Cinnamon', 'Sugar', 'Milk']\n",
      "\n",
      "Every other item on the list:\n",
      "['Butter', 'Apples', 'Sugar']\n",
      "\n",
      "Need to add another item\n"
     ]
    }
   ],
   "source": [
    "# -*- coding: utf-8 -*-\n",
    "\"\"\"\n",
    "Student Do: Grocery List.\n",
    "This script showcases basic operations of Python Lists to help Sally\n",
    "organize her grocery shopping list.\n",
    "\"\"\"\n",
    "\n",
    "# @TODO: Create a list of groceries\n",
    "print(\"Grocery list for apple pie ingredients:\")\n",
    "Apple_Pie = [\"Water\", \"Butter\", \"Eggs\", \"Apples\", \"Cinnamon\", \"Sugar\", \"Milk\"]\n",
    "print(Apple_Pie)\n",
    "print()\n",
    "\n",
    "\n",
    "# @TODO: Find the first two items on the list\n",
    "print(\"The first two items on the list:\")\n",
    "print(Apple_Pie[:2])\n",
    "print()\n",
    "\n",
    "# @TODO: Find the last five items on the list\n",
    "print(\"Last five items on the list:\")\n",
    "print(Apple_Pie[2:])\n",
    "print()\n",
    "\n",
    "# @TODO: Find every other item on the list, starting from the second item\n",
    "print(\"Every other item on the list:\")\n",
    "print(Apple_Pie[1::2])\n",
    "print()\n",
    "\n",
    "\n",
    "# @TODO: Add an element to the end of the list\n",
    "print(\"Need to add another item:\")\n",
    "\n",
    "\n",
    "\n",
    "\n",
    "# @TODO: Changes a specified element within the list at the given index\n",
    "\n",
    "\n",
    "\n",
    "\n",
    "\n",
    "# @TODO: Calculate how many items you have in the list"
   ]
  },
  {
   "cell_type": "code",
   "execution_count": null,
   "metadata": {},
   "outputs": [],
   "source": []
  },
  {
   "cell_type": "code",
   "execution_count": null,
   "metadata": {},
   "outputs": [],
   "source": []
  },
  {
   "cell_type": "code",
   "execution_count": null,
   "metadata": {},
   "outputs": [],
   "source": []
  }
 ],
 "metadata": {
  "kernelspec": {
   "display_name": "Python 3",
   "language": "python",
   "name": "python3"
  },
  "language_info": {
   "codemirror_mode": {
    "name": "ipython",
    "version": 3
   },
   "file_extension": ".py",
   "mimetype": "text/x-python",
   "name": "python",
   "nbconvert_exporter": "python",
   "pygments_lexer": "ipython3",
   "version": "3.8.3"
  }
 },
 "nbformat": 4,
 "nbformat_minor": 4
}
