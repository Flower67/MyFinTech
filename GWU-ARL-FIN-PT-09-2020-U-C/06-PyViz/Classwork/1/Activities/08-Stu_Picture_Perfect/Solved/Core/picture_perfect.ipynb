version https://git-lfs.github.com/spec/v1
oid sha256:c92080e68dbe0aec799222dbe76aef76e07154cdb85ed492ae381c42e86a9f8a
size 3020763
