version https://git-lfs.github.com/spec/v1
oid sha256:7bbc9e23642204838e82cc9dceb31f4ea6b7ec5806b2a4c978a5e87e681b00f7
size 430483
