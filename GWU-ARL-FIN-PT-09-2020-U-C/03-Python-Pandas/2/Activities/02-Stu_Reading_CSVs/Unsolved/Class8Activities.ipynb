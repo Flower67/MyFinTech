{
 "cells": [
  {
   "cell_type": "code",
   "execution_count": 14,
   "metadata": {},
   "outputs": [],
   "source": [
    "# initial imports\n",
    "import pandas as pd\n",
    "from pathlib import Path\n",
    "\n",
    "# initial imports\n",
    "csvpath = Path(\"Resources/amd_stock_data.csv\")\n",
    "\n",
    "stock_dataframe = pd.read_csv(csvpath)\n",
    "\n",
    "# get the first 10 rows from the dataframe\n",
    "stock_dataframe.head(10)\n",
    "\n",
    "# set colum names\n",
    "col_names = [\"date\", \"close\", \"volume\", \"open\", \"high\", \"low\"]\n",
    "\n",
    "# recreate the dataframe\n",
    "stock_dataframe = pd.read_csv\n",
    "\n",
    "# add columns names\n",
    "\n",
    "# get the first 10 rows from the dataframe\n",
    "\n",
    "# get the bottom 10 rows from the dataframe"
   ]
  },
  {
   "cell_type": "code",
   "execution_count": 26,
   "metadata": {},
   "outputs": [],
   "source": [
    "#Spring Cleaning!\n",
    "#Harold's stock data is a mess! Help him clean up his data before the auditors arrive!"
   ]
  },
  {
   "cell_type": "code",
   "execution_count": 20,
   "metadata": {},
   "outputs": [],
   "source": [
    "#Load CSV data into Pandas using read_csv\n",
    "csvpath = Path(\"Resources/amd_stock_data.csv\")\n",
    "stock_dataframe = pd.read_csv(csvpath)"
   ]
  },
  {
   "cell_type": "code",
   "execution_count": 21,
   "metadata": {},
   "outputs": [
    {
     "data": {
      "text/plain": [
       "(2516, 6)"
      ]
     },
     "execution_count": 21,
     "metadata": {},
     "output_type": "execute_result"
    }
   ],
   "source": [
    "#Identify the number of rows and columns (shape) in the DataFrame.\n",
    "stock_dataframe.shape\n"
   ]
  },
  {
   "cell_type": "code",
   "execution_count": 27,
   "metadata": {},
   "outputs": [
    {
     "data": {
      "text/html": [
       "<div>\n",
       "<style scoped>\n",
       "    .dataframe tbody tr th:only-of-type {\n",
       "        vertical-align: middle;\n",
       "    }\n",
       "\n",
       "    .dataframe tbody tr th {\n",
       "        vertical-align: top;\n",
       "    }\n",
       "\n",
       "    .dataframe thead th {\n",
       "        text-align: right;\n",
       "    }\n",
       "</style>\n",
       "<table border=\"1\" class=\"dataframe\">\n",
       "  <thead>\n",
       "    <tr style=\"text-align: right;\">\n",
       "      <th></th>\n",
       "      <th>4/29/09</th>\n",
       "      <th>3.51</th>\n",
       "      <th>11537950</th>\n",
       "      <th>3.4</th>\n",
       "      <th>3.56</th>\n",
       "      <th>3.38</th>\n",
       "    </tr>\n",
       "  </thead>\n",
       "  <tbody>\n",
       "    <tr>\n",
       "      <th>0</th>\n",
       "      <td>4/30/09</td>\n",
       "      <td>3.61</td>\n",
       "      <td>18193730</td>\n",
       "      <td>3.55</td>\n",
       "      <td>3.73</td>\n",
       "      <td>3.53</td>\n",
       "    </tr>\n",
       "    <tr>\n",
       "      <th>1</th>\n",
       "      <td>5/1/09</td>\n",
       "      <td>3.82</td>\n",
       "      <td>16233940</td>\n",
       "      <td>3.55</td>\n",
       "      <td>3.90</td>\n",
       "      <td>3.55</td>\n",
       "    </tr>\n",
       "    <tr>\n",
       "      <th>2</th>\n",
       "      <td>5/4/09</td>\n",
       "      <td>4.26</td>\n",
       "      <td>21236940</td>\n",
       "      <td>3.90</td>\n",
       "      <td>4.30</td>\n",
       "      <td>3.83</td>\n",
       "    </tr>\n",
       "    <tr>\n",
       "      <th>3</th>\n",
       "      <td>5/5/09</td>\n",
       "      <td>4.32</td>\n",
       "      <td>16369170</td>\n",
       "      <td>4.36</td>\n",
       "      <td>4.39</td>\n",
       "      <td>4.11</td>\n",
       "    </tr>\n",
       "    <tr>\n",
       "      <th>4</th>\n",
       "      <td>5/6/09</td>\n",
       "      <td>4.31</td>\n",
       "      <td>15075630</td>\n",
       "      <td>4.45</td>\n",
       "      <td>4.45</td>\n",
       "      <td>4.12</td>\n",
       "    </tr>\n",
       "  </tbody>\n",
       "</table>\n",
       "</div>"
      ],
      "text/plain": [
       "   4/29/09  3.51  11537950   3.4  3.56  3.38\n",
       "0  4/30/09  3.61  18193730  3.55  3.73  3.53\n",
       "1   5/1/09  3.82  16233940  3.55  3.90  3.55\n",
       "2   5/4/09  4.26  21236940  3.90  4.30  3.83\n",
       "3   5/5/09  4.32  16369170  4.36  4.39  4.11\n",
       "4   5/6/09  4.31  15075630  4.45  4.45  4.12"
      ]
     },
     "execution_count": 27,
     "metadata": {},
     "output_type": "execute_result"
    }
   ],
   "source": [
    "#Generate a sample of the data to visually ensure data has been loaded in correctly.\n",
    "stock_dataframe.head(5)"
   ]
  },
  {
   "cell_type": "code",
   "execution_count": 28,
   "metadata": {},
   "outputs": [
    {
     "data": {
      "text/plain": [
       "4/29/09     2516\n",
       "3.51        2516\n",
       "11537950    2516\n",
       "3.4         2516\n",
       "3.56        2516\n",
       "3.38        2516\n",
       "dtype: int64"
      ]
     },
     "execution_count": 28,
     "metadata": {},
     "output_type": "execute_result"
    }
   ],
   "source": [
    "#Identify the number of records in the DataFrame, and compare it with the number of rows in the original file.\n",
    "stock_dataframe.count()"
   ]
  },
  {
   "cell_type": "code",
   "execution_count": 24,
   "metadata": {},
   "outputs": [
    {
     "data": {
      "text/plain": [
       "<bound method DataFrame.isnull of       4/29/09   3.51  11537950    3.4   3.56   3.38\n",
       "0     4/30/09   3.61  18193730   3.55   3.73   3.53\n",
       "1      5/1/09   3.82  16233940   3.55   3.90   3.55\n",
       "2      5/4/09   4.26  21236940   3.90   4.30   3.83\n",
       "3      5/5/09   4.32  16369170   4.36   4.39   4.11\n",
       "4      5/6/09   4.31  15075630   4.45   4.45   4.12\n",
       "...       ...    ...       ...    ...    ...    ...\n",
       "2511  4/23/19  27.97  41583740  28.18  28.49  27.79\n",
       "2512  4/24/19  28.46  51487330  28.10  28.85  27.93\n",
       "2513  4/25/19  27.66  56709000  28.67  28.86  27.36\n",
       "2514  4/26/19  27.88  48736860  27.66  27.90  27.05\n",
       "2515  4/29/19  27.69  44265600  27.90  28.14  27.50\n",
       "\n",
       "[2516 rows x 6 columns]>"
      ]
     },
     "execution_count": 24,
     "metadata": {},
     "output_type": "execute_result"
    }
   ],
   "source": [
    "#Drop Null Records\n",
    "stock_dataframe.isnull"
   ]
  },
  {
   "cell_type": "code",
   "execution_count": 25,
   "metadata": {},
   "outputs": [],
   "source": [
    "#Validate nulls have been dropped\n",
    "\n",
    "\n",
    "#Default null ebitda values to 0. Then, validate no records are null for ebitda.\n"
   ]
  },
  {
   "cell_type": "code",
   "execution_count": null,
   "metadata": {},
   "outputs": [],
   "source": []
  }
 ],
 "metadata": {
  "kernelspec": {
   "display_name": "Python 3",
   "language": "python",
   "name": "python3"
  },
  "language_info": {
   "codemirror_mode": {
    "name": "ipython",
    "version": 3
   },
   "file_extension": ".py",
   "mimetype": "text/x-python",
   "name": "python",
   "nbconvert_exporter": "python",
   "pygments_lexer": "ipython3",
   "version": "3.8.3"
  }
 },
 "nbformat": 4,
 "nbformat_minor": 4
}
