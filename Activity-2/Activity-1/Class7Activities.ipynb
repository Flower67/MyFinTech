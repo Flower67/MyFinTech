{
 "cells": [
  {
   "cell_type": "code",
   "execution_count": 21,
   "metadata": {},
   "outputs": [
    {
     "name": "stdout",
     "output_type": "stream",
     "text": [
      "Ada Lovelace\n",
      "37\n",
      "Ada and Lovelace and Computer Programmer and 1815\n",
      "Programmers: Ada Lovelace is a British Computer Programmer born in 1815.\n",
      "She is commonly referred to as the First Computer Programmer.\n",
      "In 1842 she published the first Algorithm, the Analytical Engine, at the age of 27.\n",
      "She was a British citizen who lived in London, England until her passing in 1852 at the age of 37.\n"
     ]
    }
   ],
   "source": [
    "subject = None\n",
    "\n",
    "subject = \"Programmers\"\n",
    "first_name = \"\"\n",
    "first_name = \"Ada\"\n",
    "last_name = \"Lovelace\"\n",
    "full_name = f\"{first_name} {last_name}\"\n",
    "print(full_name)\n",
    "\n",
    "profession = \"Computer Programmer\"\n",
    "known_for = \"First Computer Programmer\"\n",
    "first_algorithm = \"Analytical Engine\"\n",
    "city_location = \"London\"\n",
    "country_location = \"England\"\n",
    "nationality = \"British\"\n",
    "\n",
    "birth_year = 1815\n",
    "death_year = 1852\n",
    "age_at_passing = 1852 - 1815\n",
    "print(age_at_passing)\n",
    "year_of_publish = 1842\n",
    "\n",
    "print(f\"{first_name} and {last_name} and {profession} and {birth_year}\")\n",
    "\n",
    "statement_one = f\"{subject}: {full_name} is a {nationality} {profession} born in {birth_year}.\"\n",
    "print(statement_one)\n",
    "\n",
    "statement_two = f\"She is commonly referred to as the {known_for}.\"\n",
    "print(statement_two)\n",
    "\n",
    "statement_three = f\"In 1842 she published the first Algorithm, the {first_algorithm}, at the age of {year_of_publish - birth_year}.\"\n",
    "print(statement_three)\n",
    "\n",
    "statement_four = f\"She was a {nationality} citizen who lived in {city_location}, {country_location} until her passing in {death_year} at the age of {age_at_passing}.\"\n",
    "print(statement_four)"
   ]
  },
  {
   "cell_type": "code",
   "execution_count": 49,
   "metadata": {},
   "outputs": [
    {
     "name": "stdout",
     "output_type": "stream",
     "text": [
      "This animal is neither Godzilla nor Mothra!\n",
      "See Spot run\n",
      "I drive Farley around San Francisco in my Prius.\n",
      "You're total cost is $4250\n",
      "The rent is too damn high!\n"
     ]
    }
   ],
   "source": [
    "farm = [\"pig\", \"cow\", \"chicken\", \"dog\", \"horse\", \"sheep\"]\n",
    "\n",
    "if farm[0] == \"Godzilla\":\n",
    "    print(\"RWAR!\")\n",
    "elif farm[5] == \"Mothra\":\n",
    "    print(\"SCREECH!\")\n",
    "else: \n",
    "    print(\"This animal is neither Godzilla nor Mothra!\")\n",
    "\n",
    "dog = \"Spot\"\n",
    "\n",
    "cat = None\n",
    "city = None\n",
    "car = None\n",
    "cat = \"Farley\"\n",
    "city = \"San Francisco\"\n",
    "car = \"Prius\"\n",
    "\n",
    "print(f\"See {dog} run\")\n",
    "\n",
    "print(f\"I drive {cat} around {city} in my {car}.\")\n",
    "\n",
    "budget = 5000\n",
    "\n",
    "rent_cost = 1500\n",
    "\n",
    "utilities_cost = 150\n",
    "\n",
    "food_cost = 250\n",
    "\n",
    "transportation_cost = 350\n",
    "\n",
    "computer_cost = 2000\n",
    "\n",
    "total_cost = rent_cost + utilities_cost + food_cost + transportation_cost + computer_cost\n",
    "\n",
    "if total_cost < budget:\n",
    "    print(f\"You're total cost is ${total_cost}\")\n",
    "else:\n",
    "    print(f\"You're over budget by {total_cost - budget}\")\n",
    "\n",
    "if rent_cost > (utilities_cost + food_cost + transportation_cost):\n",
    "    print(f\"The rent is too damn high!\")\n",
    "else:\n",
    "    print(f\"Ahh just right!\")"
   ]
  },
  {
   "cell_type": "code",
   "execution_count": 58,
   "metadata": {},
   "outputs": [
    {
     "name": "stdout",
     "output_type": "stream",
     "text": [
      "Mr. Farley comes from the home of the Raiders!\n",
      "Mr. Farley pays less rent than Mr. Snuggles\n",
      "Mr. Farley pays less expenses than Mr. Snuggles\n",
      "Look a Web Developer and an Accountant\n"
     ]
    }
   ],
   "source": [
    "c1_name = \"Mr. Farley\"\n",
    "c1_age = 65\n",
    "c1_profession = \"Web Developer\"\n",
    "c1_salary = 100000.00\n",
    "c1_species = \"cat\"\n",
    "c1_location = \"San Francisco, CA\"\n",
    "c1_monthly_rent = 2000\n",
    "c1_monthly_expenses = 1500\n",
    "c1_yearly_rent = c1_monthly_rent * 12\n",
    "c1_yearly_expenses = 1500.00*12\n",
    "c1_savings = c1_salary - (c1_yearly_rent + c1_yearly_expenses)\n",
    "\n",
    "c2_name = \"Mr. Snuggles\"\n",
    "c2_age = 30\n",
    "c2_species = \"mouse\"\n",
    "c2_profession = \"Accountant\"\n",
    "c2_salary = 70000\n",
    "c2_location = \"Oakland, CA\"\n",
    "c2_monthly_rent = 4000\n",
    "c2_monthly_expenses = 500\n",
    "c2_yearly_rent = c2_monthly_expenses * 12\n",
    "c2_yearly_expenses = c2_monthly_expenses * 12\n",
    "c2_savings = c2_salary - (c1_yearly_rent + c2_yearly_expenses)\n",
    "\n",
    "if c1_name == \"Mr. Farley\":\n",
    "    print(f\"Mr. Farley comes from the home of the Raiders!\")\n",
    "elif c2_location == \"San Francisco, CA\":\n",
    "    print(f\"Mr. Farley comes from the home of the 49ers!\")\n",
    "else:\n",
    "    print(f\"Mr. Farley doesn't hail from a sports town.\")\n",
    "    \n",
    "if c1_monthly_rent > c2_monthly_rent:\n",
    "    print(f\"Mr. Farley pays more than Mr. Snuggles\")\n",
    "elif c1_monthly_rent < c2_monthly_rent:\n",
    "    print(f\"Mr. Farley pays less rent than Mr. Snuggles\")\n",
    "else:\n",
    "    print(f\"Mr. Farley pays the same rent as Mr. Snuggles\")\n",
    "    \n",
    "if c1_monthly_expenses > c2_monthly_expenses:\n",
    "    print(\"Mr. Farley pays less expenses than Mr. Snuggles\")\n",
    "elif c1_monthly_expenses < c2_monthly_expenses:\n",
    "    print(\"Mr. Farley pays less expenses than Mr. Snuggles\")\n",
    "else:\n",
    "    print(\"Mr. Farley pays the same expenses as Mr. Snuggles\")\n",
    "    \n",
    "if c1_profession == \"Web Developer\" and c2_profession == \"Accountant\":\n",
    "    print(\"Look a Web Developer and an Accountant\")\n",
    "else:\n",
    "    print(\"They are professionals.\")"
   ]
  },
  {
   "cell_type": "code",
   "execution_count": 62,
   "metadata": {},
   "outputs": [
    {
     "name": "stdout",
     "output_type": "stream",
     "text": [
      "Hello, Welcome to the sandwich shop, what do I call you?\n",
      "You did not write Yes or No!\n"
     ]
    }
   ],
   "source": [
    "welcome_name = \"Welcome to the sandwich shop, what do I call you?\"\n",
    "print(f\"Hello, {welcome_name}\")\n",
    "\n",
    "question_sandwich = \"What kind of sandwich would you like?\"\n",
    "\n",
    "if question_sandwich == True:\n",
    "    food_prompt = input(\"What kind of sandwich would you like?\")\n",
    "    print(f\"Please wait 10 min for your {food_prompt}\")\n",
    "elif question_sandwich == False:\n",
    "    print(\"If you don't want a sandwich what are you here for?!\")\n",
    "else:\n",
    "    print(\"You did not write Yes or No!\")\n"
   ]
  },
  {
   "cell_type": "code",
   "execution_count": 92,
   "metadata": {},
   "outputs": [
    {
     "name": "stdin",
     "output_type": "stream",
     "text": [
      "Welcome to the Boba Shop! What is your name? Floriane\n"
     ]
    },
    {
     "name": "stdout",
     "output_type": "stream",
     "text": [
      "Hello Floriane!\n"
     ]
    },
    {
     "name": "stdin",
     "output_type": "stream",
     "text": [
      "What kind of boba drink would you like? Mango\n",
      "How sweet do you want your drink: 0, 50, 100, or 200? 50\n"
     ]
    },
    {
     "name": "stdout",
     "output_type": "stream",
     "text": [
      "Your order of Mango boba with a sweetness level of non-sweet.\n"
     ]
    }
   ],
   "source": [
    "name = input(\"Welcome to the Boba Shop! What is your name?\")\n",
    "\n",
    "if name != \"\":\n",
    "    print(f\"Hello {name}!\")\n",
    "\n",
    "\n",
    "    beverage = input(\"What kind of boba drink would you like?\")\n",
    "    sweetness_level = input(\"How sweet do you want your drink: 0, 50, 100, or 200?\")\n",
    "\n",
    "    if sweetness_level == 50:\n",
    "        sweetness = \"half sweetened\"\n",
    "    elif sweetness_level == 100:\n",
    "        sweetness = \"normal sweet\"\n",
    "    elif sweetness_level == 200:\n",
    "        sweetness = \"super sweet\"\n",
    "    else:\n",
    "        sweetness = \"non-sweet\"\n",
    "        print(f\"Your order of {beverage} boba with a sweetness level of {sweetness}.\") \n",
    "\n",
    "else:\n",
    "     print(\"You didn't give us your name! Goodbye.\")\n",
    "   "
   ]
  },
  {
   "cell_type": "code",
   "execution_count": 94,
   "metadata": {},
   "outputs": [
    {
     "name": "stdout",
     "output_type": "stream",
     "text": [
      "2\n",
      "4\n",
      "9\n",
      "15\n"
     ]
    }
   ],
   "source": [
    "list_1 = [0,1,2,3]\n",
    "list_2 = [4,5,6,7]\n",
    "list_3 = [8,9,10,11]\n",
    "list_4 = [12,13,14,15]\n",
    "\n",
    "print(list_1[2])\n",
    "print(list_2[0])\n",
    "print(list_3[1])\n",
    "print(list_4[3])"
   ]
  },
  {
   "cell_type": "code",
   "execution_count": 96,
   "metadata": {},
   "outputs": [
    {
     "name": "stdout",
     "output_type": "stream",
     "text": [
      "{'west_coast': True, 'has_multiple_bridges': True, 'known_for_pizza': False, 'coastal': True, 'snows': False, 'very_hot': False, 'mayor': 'London Breed', 'state': 'California', 'country': 'USA', 'best_food': 'burritos', 'sports_teams': ['Giants', 'Warriors', 'Forty-Niners'], 'tallest_building': 'SalesForce Building', 'population': 884363, 'city_size': 'large', 'median_house_price': 1610000, 'famous_residents': ['Maya Angelou', 'Robert Frost', 'Carlos Santana'], 'homeless_pop': 1150, 'political_leaning': 'Democrat', 'notable_attractions': ['Alcatraz', 'Golden Gate Bridge', \"Fisherman's Wharf\"], 'natural_disasters': ['Earthquakes']}\n"
     ]
    }
   ],
   "source": [
    "san_francisco = {\n",
    " \"west_coast\": True,\n",
    " \"has_multiple_bridges\": True,\n",
    " \"known_for_pizza\": False,\n",
    " \"coastal\": True,\n",
    " \"snows\": False,\n",
    " \"very_hot\": False,\n",
    " \"mayor\": \"London Breed\",\n",
    " \"state\": \"California\",\n",
    " \"country\": \"USA\",\n",
    " \"best_food\": \"burritos\",\n",
    " \"sports_teams\": [\"Giants\", \"Warriors\", \"Forty-Niners\"],\n",
    " \"tallest_building\": \"SalesForce Building\",\n",
    " \"population\": 884363,\n",
    " \"city_size\": \"large\",\n",
    " \"median_house_price\": 1610000,\n",
    " \"famous_residents\": [\"Maya Angelou\", \"Robert Frost\", \"Carlos Santana\"],\n",
    " \"homeless_pop\": 1150,\n",
    " \"political_leaning\": \"Democrat\",\n",
    " \"notable_attractions\": [\"Alcatraz\", \"Golden Gate Bridge\", \"Fisherman's Wharf\"],\n",
    " \"natural_disasters\": [\"Earthquakes\"],\n",
    " }\n",
    "\n",
    "print(san_francisco)\n"
   ]
  },
  {
   "cell_type": "code",
   "execution_count": 95,
   "metadata": {},
   "outputs": [
    {
     "name": "stdout",
     "output_type": "stream",
     "text": [
      "{'west_coast': True, 'has_multiple_bridges': True, 'known_for_pizza': False, 'coastal': True, 'snows': False, 'very_hot': False, 'mayor': 'London Breed', 'state': 'California', 'country': 'USA', 'best_food': 'burritos', 'sports_teams': ['Giants', 'Warriors', 'Forty-Niners'], 'tallest_building': 'SalesForce Building', 'population': 884363, 'city_size': 'large', 'median_house_price': 1610000, 'famous_residents': ['Maya Angelous', 'Robert Frost', 'Carlos Santana'], 'homeless_pop': 1150, 'political_leaning': 'Democrat', 'notable_attractions': ['Alcatraz', 'Golden Gate Bridge', \"Fisherman's Wharf\"], 'natural_disasters': ['Earthquakes']}\n"
     ]
    }
   ],
   "source": [
    "#Re-create the content of the commented out `san_francisco` dictionary \n",
    "#by using bracket notation to manually add each of the key-value pairs \n",
    "#(including nested objects).\n",
    "\n",
    "san_francisco = {}\n",
    "\n",
    "san_francisco['west_coast']=True\n",
    "san_francisco['has_multiple_bridges'] = True\n",
    "san_francisco['known_for_pizza'] = False\n",
    "san_francisco['coastal'] = True\n",
    "san_francisco['snows'] = False\n",
    "san_francisco['very_hot'] = False\n",
    "san_francisco['mayor'] = \"London Breed\"\n",
    "san_francisco['state'] = \"California\"\n",
    "san_francisco['country'] = \"USA\"\n",
    "san_francisco['best_food'] = \"burritos\"\n",
    "san_francisco['sports_teams'] = [\"Giants\", \"Warriors\", \"Forty-Niners\"]\n",
    "san_francisco['tallest_building'] = \"SalesForce Building\"\n",
    "san_francisco['population'] = 884363\n",
    "san_francisco['city_size'] = \"large\"\n",
    "san_francisco['median_house_price'] = 1610000\n",
    "san_francisco['famous_residents'] = [\"Maya Angelous\", \"Robert Frost\", \"Carlos Santana\"]\n",
    "san_francisco['homeless_pop'] = 1150\n",
    "san_francisco['political_leaning'] = \"Democrat\"\n",
    "san_francisco['notable_attractions'] = [\"Alcatraz\", \"Golden Gate Bridge\", \"Fisherman's Wharf\"]\n",
    "san_francisco['natural_disasters'] = [\"Earthquakes\"]\n",
    "\n",
    "print(san_francisco)"
   ]
  },
  {
   "cell_type": "code",
   "execution_count": 105,
   "metadata": {},
   "outputs": [
    {
     "ename": "ModuleNotFoundError",
     "evalue": "No module named 'show_data'",
     "output_type": "error",
     "traceback": [
      "\u001b[0;31m---------------------------------------------------------------------------\u001b[0m",
      "\u001b[0;31mModuleNotFoundError\u001b[0m                       Traceback (most recent call last)",
      "\u001b[0;32m<ipython-input-105-3a98465da682>\u001b[0m in \u001b[0;36m<module>\u001b[0;34m\u001b[0m\n\u001b[1;32m      1\u001b[0m \u001b[0;31m# Use the `from` keyword to import the `shows` dictionary from the `show_data.py` file\u001b[0m\u001b[0;34m\u001b[0m\u001b[0;34m\u001b[0m\u001b[0;34m\u001b[0m\u001b[0m\n\u001b[0;32m----> 2\u001b[0;31m \u001b[0;32mfrom\u001b[0m \u001b[0mshow_data\u001b[0m \u001b[0;32mimport\u001b[0m \u001b[0mshows\u001b[0m\u001b[0;34m\u001b[0m\u001b[0;34m\u001b[0m\u001b[0m\n\u001b[0m\u001b[1;32m      3\u001b[0m \u001b[0;34m\u001b[0m\u001b[0m\n\u001b[1;32m      4\u001b[0m \u001b[0;34m\u001b[0m\u001b[0m\n\u001b[1;32m      5\u001b[0m \u001b[0;31m# QUESTION 1: Who is the actor that plays Squidward in Spongebob (kids)?\u001b[0m\u001b[0;34m\u001b[0m\u001b[0;34m\u001b[0m\u001b[0;34m\u001b[0m\u001b[0m\n",
      "\u001b[0;31mModuleNotFoundError\u001b[0m: No module named 'show_data'"
     ]
    }
   ],
   "source": [
    "# Use the `from` keyword to import the `shows` dictionary from the `show_data.py` file\n",
    "from show_data import shows\n",
    "\n",
    "\n",
    "# QUESTION 1: Who is the actor that plays Squidward in Spongebob (kids)?\n",
    "\n",
    "\n",
    "# QUESTION 2: Patrick Warburton plays Joe Swanson in Family Guy (comedy). What is the link to his imdb page?\n",
    "\n",
    "\n",
    "# QUESTION 3: Is the Walking Dead still running?\n",
    "\n",
    "\n",
    "# QUESTION 4: Who plays Dexter in Dexter (drama) and who plays Dexter in Dexter's Lab (kids)?\n",
    "# HINT: You can print multiple items at once by using a comma like this: print(thing1, thing2)\n",
    "\n",
    "\n",
    "# QUESTION 5: Who are the creators of Stranger Things (drama)?\n",
    "\n",
    "\n",
    "# QUESTION 6: Who hosts the Daily Show (talk)?\n",
    "\n",
    "\n",
    "# QUESTION 7: Who are all the hosts of the view (talk)\n",
    "# Hint: You will need to use a loop for this one. You may not simply log the entire list, but must log each name individually\n",
    "\n",
    "\n",
    "# QUESTION 8: What are the show names of the Impractical Jokers (comedy)\n",
    "# Hint: You will need to use a loop for this one. You may not simply log the entire list, but must log each name individually\n",
    "\n",
    "\n",
    "# QUESTION 9: Who does Will Arnett play in Arrested Development (comedy)\n",
    "\n",
    "\n",
    "# QUESTION 10: Who plays Yami Yugi in Yu-Gi-Oh (kids)?\n",
    "\n",
    "\n",
    "# QUESTION 11: How many seasons did the Office (comedy) run?\n",
    "\n",
    "\n",
    "# QUESTION 12: Who are the main characters of the Office (comedy) (not the actors, but the actual character names)?\n",
    "\n",
    "\n",
    "# QUESTION 13: List the characters in Teen Titans (kids)\n",
    "\n",
    "\n",
    "# QUESTION 14: What is the link to the IMDB page for the actor who plays Mr. Krabs (Spongebob, kids)?\n",
    "\n",
    "\n",
    "# QUESTION 15: Who plays Negan in The Walking Dead?\n",
    "\n",
    "\n",
    "# QUESTION 16: List the main cast of Dexter (drama) (the actors, not the characters)\n",
    "\n",
    "\n",
    "# QUESTION 17: Is Game of Thrones(drama) still running?\n",
    "\n",
    "\n",
    "# QUESTION 18: Who does Peter Dinklage play in Game of Thrones (drama)?\n",
    "\n",
    "\n",
    "# QUESTION 19: List the American Idol Judges\n",
    "\n",
    "\n",
    "# QUESTION 20: Who plays Dustin in Stanger Things (drama)?"
   ]
  },
  {
   "cell_type": "code",
   "execution_count": null,
   "metadata": {},
   "outputs": [],
   "source": []
  }
 ],
 "metadata": {
  "kernelspec": {
   "display_name": "Python 3",
   "language": "python",
   "name": "python3"
  },
  "language_info": {
   "codemirror_mode": {
    "name": "ipython",
    "version": 3
   },
   "file_extension": ".py",
   "mimetype": "text/x-python",
   "name": "python",
   "nbconvert_exporter": "python",
   "pygments_lexer": "ipython3",
   "version": "3.8.3"
  }
 },
 "nbformat": 4,
 "nbformat_minor": 4
}
